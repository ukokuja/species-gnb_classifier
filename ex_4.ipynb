{
 "cells": [
  {
   "cell_type": "markdown",
   "id": "documented-section",
   "metadata": {},
   "source": [
    "# Exercise 4\n",
    "## Lucas Kujawski & Yaniv Zlotnik\n",
    "### IDs : 000331506 & 314880493"
   ]
  },
  {
   "cell_type": "code",
   "execution_count": null,
   "id": "daily-fossil",
   "metadata": {},
   "outputs": [],
   "source": [
    "!pip install numpy\n",
    "!pip install matplotlib\n",
    "!pip install seaborn\n",
    "!pip install pandas\n",
    "!pip install sklearn\n",
    "!pip install scipy\n",
    "!pip install pydotplus\n",
    "\n",
    "import numpy as np\n",
    "import matplotlib.pyplot as plt\n",
    "import seaborn as sns\n",
    "import pandas as pd\n",
    "from sklearn.naive_bayes import GaussianNB\n",
    "import datetime\n",
    "from pandas.api.types import is_numeric_dtype\n",
    "import sklearn as skl\n",
    "from scipy.stats import skewnorm\n",
    "import scipy.stats as stats\n",
    "from sklearn.tree import DecisionTreeClassifier # Import Decision Tree Classifier\n",
    "from sklearn.model_selection import train_test_split # Import train_test_split function\n",
    "from sklearn import metrics #Import scikit-learn metrics module for accuracy calculation\n",
    "import pydotplus"
   ]
  },
  {
   "cell_type": "code",
   "execution_count": null,
   "id": "german-scholarship",
   "metadata": {},
   "outputs": [],
   "source": [
    "df = pd.read_csv('penguins.csv')"
   ]
  },
  {
   "cell_type": "code",
   "execution_count": null,
   "id": "other-future",
   "metadata": {},
   "outputs": [],
   "source": [
    "df.head()"
   ]
  },
  {
   "cell_type": "code",
   "execution_count": null,
   "id": "matched-activity",
   "metadata": {},
   "outputs": [],
   "source": [
    "df.describe()"
   ]
  },
  {
   "cell_type": "code",
   "execution_count": null,
   "id": "general-madagascar",
   "metadata": {},
   "outputs": [],
   "source": [
    "#We replace NA values for the mean. In this way, we keep the overall values\n",
    "df.fillna(df.mean(), inplace=True)"
   ]
  },
  {
   "cell_type": "code",
   "execution_count": null,
   "id": "synthetic-mathematics",
   "metadata": {},
   "outputs": [],
   "source": [
    "#Although they are nominal categorical, we convert them to categorical to plot them\n",
    "df['ordered_species'] = pd.Categorical(df.species,ordered=True,categories=['Adelie', 'Chinstrap', 'Gentoo']).codes\n",
    "df['ordered_island'] = pd.Categorical(df.island,ordered=True,categories=['Torgersen', 'Biscoe', 'Dream']).codes"
   ]
  },
  {
   "cell_type": "code",
   "execution_count": null,
   "id": "municipal-sucking",
   "metadata": {},
   "outputs": [],
   "source": [
    "#We do the same with boolean variables\n",
    "df['is_female'] = df['sex'] == 'Female'"
   ]
  },
  {
   "cell_type": "code",
   "execution_count": null,
   "id": "hidden-review",
   "metadata": {},
   "outputs": [],
   "source": [
    "#We see how the DF looks now\n",
    "df.head()"
   ]
  },
  {
   "cell_type": "markdown",
   "id": "threatened-inclusion",
   "metadata": {},
   "source": [
    "## 1.1\n",
    "#### We plot some relations to see if two variables give good split."
   ]
  },
  {
   "cell_type": "code",
   "execution_count": null,
   "id": "green-student",
   "metadata": {},
   "outputs": [],
   "source": [
    "sns.pairplot(df[['bill_length_mm', 'bill_depth_mm', 'flipper_length_mm', 'body_mass_g', 'ordered_species']], hue='ordered_species', height=1.5)"
   ]
  },
  {
   "cell_type": "markdown",
   "id": "electrical-private",
   "metadata": {},
   "source": [
    "#### After this graph, we can appreciate that there are three good splits candiates:\n",
    "1. body_mass_g vs bill_length_mm\n",
    "2. bill_length_mm vs bill_depth_mm\n",
    "3. flipper_length_mm vs bill_length_mm"
   ]
  },
  {
   "cell_type": "code",
   "execution_count": null,
   "id": "taken-giving",
   "metadata": {},
   "outputs": [],
   "source": [
    "sns.pairplot(df[['bill_length_mm', 'is_female', 'body_mass_g', 'ordered_island', 'ordered_species']], hue='ordered_species', height=1.5)\n"
   ]
  },
  {
   "cell_type": "markdown",
   "id": "painted-thought",
   "metadata": {},
   "source": [
    "After this graph, we can appreciate that there is not an important relation more than what we observed before. "
   ]
  },
  {
   "cell_type": "markdown",
   "id": "confirmed-jaguar",
   "metadata": {},
   "source": [
    "## 1.2\n",
    "#### We will check the accuracy of the models trained on:\n",
    "1. body_mass_g vs bill_length_mm\n",
    "2. flipper_length_mm vs bill_length_mm\n",
    "3. bill_depth_mm vs bill_length_mm\n",
    "\n",
    "#### We train the models using 80% of the dataset as tranining set"
   ]
  },
  {
   "cell_type": "markdown",
   "id": "covered-library",
   "metadata": {},
   "source": [
    "### body_mass_g vs bill_length_mm:"
   ]
  },
  {
   "cell_type": "code",
   "execution_count": null,
   "id": "sonic-authorization",
   "metadata": {},
   "outputs": [],
   "source": [
    "X = df[['body_mass_g', 'bill_length_mm']]\n",
    "Y = df['ordered_species']\n",
    "Xtrain, Xtest, ytrain, ytest = train_test_split(X, Y, test_size=0.2,\n",
    "                                                random_state=1)"
   ]
  },
  {
   "cell_type": "code",
   "execution_count": null,
   "id": "promotional-loading",
   "metadata": {},
   "outputs": [],
   "source": [
    "model = GaussianNB()                       # 2. instantiate model\n",
    "model.fit(Xtrain, ytrain)                  # 3. fit model to data\n",
    "y_model = model.predict(Xtest)             # 4. predict on new data (output is numpy array)\n",
    "\n",
    "ypred = pd.Series(y_model,name=\"prediction\")\n",
    "print(\"body_mass_g vs bill_length_mm accuracy: \", metrics.accuracy_score(ytest, y_model))"
   ]
  },
  {
   "cell_type": "markdown",
   "id": "included-federal",
   "metadata": {},
   "source": [
    "### flipper_length_mm vs bill_length_mm:"
   ]
  },
  {
   "cell_type": "code",
   "execution_count": null,
   "id": "sensitive-monthly",
   "metadata": {},
   "outputs": [],
   "source": [
    "X = df[['flipper_length_mm', 'bill_length_mm']]\n",
    "Y = df['ordered_species']\n",
    "Xtrain, Xtest, ytrain, ytest = train_test_split(X, Y, test_size=0.2,\n",
    "                                                random_state=1)"
   ]
  },
  {
   "cell_type": "code",
   "execution_count": null,
   "id": "extreme-oasis",
   "metadata": {},
   "outputs": [],
   "source": [
    "model = GaussianNB()                       # 2. instantiate model\n",
    "model.fit(Xtrain, ytrain)                  # 3. fit model to data\n",
    "y_model = model.predict(Xtest)             # 4. predict on new data (output is numpy array)\n",
    "\n",
    "ypred = pd.Series(y_model,name=\"prediction\")\n",
    "print(\"flipper_length_mm vs bill_length_mm accuracy: \", metrics.accuracy_score(ytest, y_model))"
   ]
  },
  {
   "cell_type": "markdown",
   "id": "clear-absorption",
   "metadata": {},
   "source": [
    "### bill_depth_mm vs bill_length_mm:"
   ]
  },
  {
   "cell_type": "code",
   "execution_count": null,
   "id": "thousand-configuration",
   "metadata": {},
   "outputs": [],
   "source": [
    "X = df[['bill_depth_mm', 'bill_length_mm']]\n",
    "Y = df['species']\n",
    "Xtrain, Xtest, ytrain, ytest = train_test_split(X, Y, test_size=0.2,\n",
    "                                                random_state=1)"
   ]
  },
  {
   "cell_type": "code",
   "execution_count": null,
   "id": "global-representative",
   "metadata": {},
   "outputs": [],
   "source": [
    "model = GaussianNB()                       # 2. instantiate model\n",
    "model.fit(Xtrain, ytrain)                  # 3. fit model to data\n",
    "y_model = model.predict(Xtest)             # 4. predict on new data (output is numpy array)\n",
    "\n",
    "ypred = pd.Series(y_model,name=\"prediction\")\n",
    "predicted = pd.concat([Xtest.reset_index(),ytest.reset_index(),ypred],axis=1)\n",
    "print(\"bill_depth_mm vs bill_length_mm accuracy: \", metrics.accuracy_score(ytest, y_model))"
   ]
  },
  {
   "cell_type": "markdown",
   "id": "communist-burke",
   "metadata": {},
   "source": [
    "## 1.3\n",
    "#### We see that bill_depth_mm vs bill_length_mm has better accuracy.\n",
    "#### Lets plot it"
   ]
  },
  {
   "cell_type": "code",
   "execution_count": null,
   "id": "initial-rogers",
   "metadata": {},
   "outputs": [],
   "source": [
    "def bayes_plot(df,model=\"gnb\",spread=30):\n",
    "    \n",
    "    colors = 'seismic'\n",
    "    col1 = df.columns[0]\n",
    "    species = ['Adelie', 'Chinstrap', 'Gentoo']\n",
    "    col2 = df.columns[1]\n",
    "    target = df.columns[2]\n",
    "   \n",
    "    \n",
    "    y = df[target]  # Target variable\n",
    "    X = df.drop(target, axis=1)\n",
    "\n",
    "    clf = GaussianNB()\n",
    "    if (model != \"gnb\"):\n",
    "        clf = DecisionTreeClassifier(max_depth=model)\n",
    "    clf = clf.fit(Xtrain, ytrain)\n",
    "\n",
    "    prob = len(clf.classes_) == 2\n",
    "\n",
    "\n",
    "    hueorder = clf.classes_\n",
    "\n",
    "    \n",
    "    x_min, x_max = X.loc[:, col1].min() - 1, X.loc[:, col1].max() + 1\n",
    "    y_min, y_max = X.loc[:, col2].min() - 1, X.loc[:, col2].max() + 1\n",
    "    xx, yy = np.meshgrid(np.arange(x_min, x_max, 0.2),\n",
    "                         np.arange(y_min, y_max, 0.2))\n",
    "\n",
    "    Z = clf.predict_proba(np.c_[xx.ravel(), yy.ravel()])\n",
    "    if prob:\n",
    "\n",
    "        Z = Z[:,1]-Z[:,0]\n",
    "    else:\n",
    "        colors = \"Set1\"\n",
    "        Z = np.argmax(Z, axis=1)\n",
    "\n",
    "\n",
    "    # Put the result into a color plot\n",
    "    Z = Z.reshape(xx.shape)\n",
    "    plt.contourf(xx, yy, Z, cmap=colors, alpha=0.5)\n",
    "    plt.colorbar()\n",
    "    if not prob:\n",
    "        plt.clim(0,len(clf.classes_)+3)\n",
    "    plot = sns.scatterplot(data=df[::spread], x=col1, y=col2, hue=target, hue_order=hueorder,palette=colors)\n",
    "    fig = plt.gcf()\n",
    "    legends=plt.legend()\n",
    "    for i, val in enumerate(species):\n",
    "            legends.get_texts()[i].set_text(val)\n",
    "    fig.set_size_inches(12, 8)\n",
    "    \n",
    "bayes_plot(pd.concat([X,Y],axis=1),spread=1)\n",
    "plt.show()"
   ]
  },
  {
   "cell_type": "markdown",
   "id": "varied-heading",
   "metadata": {},
   "source": [
    "## 1.4\n",
    "Plot incorrect predictions above the filled contour plot."
   ]
  },
  {
   "cell_type": "code",
   "execution_count": null,
   "id": "saved-belly",
   "metadata": {},
   "outputs": [],
   "source": [
    "def plot_bayes_prediction(df: pd.DataFrame, model: GaussianNB):\n",
    "    df.dropna()\n",
    "    col1 = df.columns[0]\n",
    "    col2 = df.columns[1]\n",
    "    target = df.columns[2]\n",
    "    X = df.drop(target, axis=1)\n",
    "\n",
    "    x_min, x_max = X.loc[:, col1].min() - 1, X.loc[:, col1].max() + 1\n",
    "    y_min, y_max = X.loc[:, col2].min() - 1, X.loc[:, col2].max() + 1\n",
    "\n",
    "    xx, yy = np.meshgrid(np.arange(x_min, x_max, 0.2),\n",
    "                         np.arange(y_min, y_max, 0.2))\n",
    "\n",
    "    Z = model.predict_proba(np.c_[xx.ravel(), yy.ravel()])\n",
    "    Z = np.argmax(Z, axis=1)\n",
    "    Z = Z.reshape(xx.shape)\n",
    "\n",
    "    colors = \"Set1\"\n",
    "    plt.ylabel('bill_length (mm)')\n",
    "    plt.xlabel('bill_depth (mm)')\n",
    "    plt.title('Filled Contours Plot')\n",
    "    plt.contourf(xx, yy, Z, cmap=colors, alpha=0.5)\n",
    "    plt.colorbar()\n",
    "    plt.clim(0, len(model.classes_) + 3)\n"
   ]
  },
  {
   "cell_type": "code",
   "execution_count": null,
   "id": "split-casino",
   "metadata": {},
   "outputs": [],
   "source": [
    "\n",
    "def plot_incorrect_predictions(incorrect_predictions: pd.DataFrame, model:GaussianNB):\n",
    "    colors = \"Set1\"\n",
    "    spread = 1\n",
    "    col1 = incorrect_predictions.columns[0]\n",
    "    col2 = incorrect_predictions.columns[1]\n",
    "    target = incorrect_predictions.columns[2]\n",
    "    hueorder = model.classes_\n",
    "    sns.scatterplot(data=incorrect_predictions[::spread], x=col1, y=col2, hue=target, hue_order=hueorder, palette=colors,\n",
    "                    s=20)\n",
    "    fig = plt.gcf()\n",
    "    fig.set_size_inches(12, 8)\n",
    "    plt.show()"
   ]
  },
  {
   "cell_type": "code",
   "execution_count": null,
   "id": "laughing-vienna",
   "metadata": {},
   "outputs": [],
   "source": [
    "plot_bayes_prediction(pd.concat([X, Y], axis=1), model)\n",
    "incorrect_predictions = pd.concat([Xtest, ytest], axis=1)[np.array(ytest) != np.array(y_model)]\n",
    "plot_incorrect_predictions(incorrect_predictions, model)"
   ]
  },
  {
   "cell_type": "markdown",
   "id": "excellent-burton",
   "metadata": {},
   "source": [
    "## 1.5\n",
    "Clasification report:"
   ]
  },
  {
   "cell_type": "code",
   "execution_count": null,
   "id": "domestic-explorer",
   "metadata": {},
   "outputs": [],
   "source": [
    "print(metrics.classification_report(ytest, ypred))"
   ]
  },
  {
   "cell_type": "markdown",
   "id": "tutorial-petroleum",
   "metadata": {},
   "source": [
    "## Task 2"
   ]
  },
  {
   "cell_type": "code",
   "execution_count": null,
   "id": "eleven-pierre",
   "metadata": {},
   "outputs": [],
   "source": [
    "df[\"class\"] = df[\"sex\"] + \" \" + df[\"species\"]\n",
    "df = df[df['class'].notna()]\n",
    "df['ordered_class'] = pd.Categorical(df[\"class\"], ordered=True, categories=['Female Adelie', 'Female Chinstrap', 'Female Gentoo', 'Male Adelie', 'Male Chinstrap', 'Male Gentoo']).codes"
   ]
  },
  {
   "cell_type": "markdown",
   "id": "micro-southeast",
   "metadata": {},
   "source": [
    "## 2.1\n",
    "#### We plot some relations to see if two variables give good split."
   ]
  },
  {
   "cell_type": "code",
   "execution_count": null,
   "id": "heard-banking",
   "metadata": {},
   "outputs": [],
   "source": [
    "sns.pairplot(df[['bill_length_mm', 'bill_depth_mm', 'flipper_length_mm', 'body_mass_g', 'ordered_class']], hue='ordered_class', height=1.5)\n",
    "plt.show()"
   ]
  },
  {
   "cell_type": "code",
   "execution_count": null,
   "id": "continued-acceptance",
   "metadata": {},
   "outputs": [],
   "source": [
    "sns.pairplot(df[['bill_length_mm', 'is_female', 'body_mass_g', 'ordered_island', 'ordered_class']], hue='ordered_class', height=1.5)\n",
    "plt.show()"
   ]
  },
  {
   "cell_type": "markdown",
   "id": "isolated-clinton",
   "metadata": {},
   "source": [
    "## 2.2\n",
    "### body_mass_g vs bill_length_mm is looking good, but it's too hard to decide.\n",
    "#### We train the models using 80% of the dataset as tranining set"
   ]
  },
  {
   "cell_type": "code",
   "execution_count": null,
   "id": "compatible-skill",
   "metadata": {},
   "outputs": [],
   "source": [
    "# For loop on GNB classifier to decide which features are better\n",
    "cols = ['bill_length_mm', 'bill_depth_mm', 'flipper_length_mm', 'body_mass_g']\n",
    "for i in range(len(cols)):\n",
    "    for j in range(i+1, len(cols)):\n",
    "        X = df[[cols[i], cols[j]]]\n",
    "        Y = df['ordered_class']\n",
    "        Xtrain, Xtest, ytrain, ytest = train_test_split(X, Y, test_size=0.2, random_state=1)\n",
    "        model = GaussianNB()                       \n",
    "        model.fit(Xtrain, ytrain)                  \n",
    "        y_model = model.predict(Xtest)          \n",
    "        ypred = pd.Series(y_model,name=\"prediction\")\n",
    "        print(\"{0} vs {1} accuracy: {2}\".format(cols[i], cols[j],metrics.accuracy_score(ytest, y_model)))"
   ]
  },
  {
   "cell_type": "code",
   "execution_count": null,
   "id": "distinct-excess",
   "metadata": {},
   "outputs": [],
   "source": [
    "## 2.3\n",
    "#### We see that bill_depth_mm vs bill_length_mm has again better accuracy.\n",
    "#### Lets plot it"
   ]
  },
  {
   "cell_type": "code",
   "execution_count": null,
   "id": "silent-worship",
   "metadata": {},
   "outputs": [],
   "source": [
    "X = df[['bill_length_mm', 'bill_depth_mm']]\n",
    "Y = df['class']\n",
    "model = GaussianNB()\n",
    "Xtrain, Xtest, ytrain, ytest = train_test_split(X, Y, test_size=0.2, random_state=1)\n",
    "model = GaussianNB()                       \n",
    "model.fit(Xtrain, ytrain)                  \n",
    "y_model = model.predict(Xtest)\n",
    "ypred = pd.Series(y_model,name=\"prediction\")\n",
    "bayes_plot(pd.concat([X,Y],axis=1),spread=1)\n",
    "plt.show()"
   ]
  },
  {
   "cell_type": "markdown",
   "id": "subject-morocco",
   "metadata": {},
   "source": [
    "## 2.4\n",
    "Plot incorrect predictions above the filled contour plot."
   ]
  },
  {
   "cell_type": "code",
   "execution_count": null,
   "id": "compatible-chrome",
   "metadata": {},
   "outputs": [],
   "source": [
    "plot_bayes_prediction(pd.concat([X, Y], axis=1), model)\n",
    "incorrect_predictions = pd.concat([Xtest, ytest], axis=1)[np.array(ytest) != np.array(y_model)]\n",
    "plot_incorrect_predictions(incorrect_predictions, model)"
   ]
  },
  {
   "cell_type": "markdown",
   "id": "oriental-willow",
   "metadata": {},
   "source": [
    "## 2.5\n",
    "Clasification report:"
   ]
  },
  {
   "cell_type": "code",
   "execution_count": null,
   "id": "going-cornell",
   "metadata": {},
   "outputs": [],
   "source": [
    "print(metrics.classification_report(ytest, ypred))"
   ]
  }
 ],
 "metadata": {
  "kernelspec": {
   "display_name": "Python 3",
   "language": "python",
   "name": "python3"
  },
  "language_info": {
   "codemirror_mode": {
    "name": "ipython",
    "version": 3
   },
   "file_extension": ".py",
   "mimetype": "text/x-python",
   "name": "python",
   "nbconvert_exporter": "python",
   "pygments_lexer": "ipython3",
   "version": "3.7.6"
  }
 },
 "nbformat": 4,
 "nbformat_minor": 5
}